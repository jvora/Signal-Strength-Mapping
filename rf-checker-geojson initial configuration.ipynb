{
    "metadata": {
        "kernelspec": {
            "language": "python", 
            "display_name": "Python 2 with Spark 2.0", 
            "name": "python2-spark20"
        }, 
        "language_info": {
            "version": "2.7.11", 
            "file_extension": ".py", 
            "mimetype": "text/x-python", 
            "name": "python", 
            "nbconvert_exporter": "python", 
            "pygments_lexer": "ipython2", 
            "codemirror_mode": {
                "version": 2, 
                "name": "ipython"
            }
        }
    }, 
    "cells": [
        {
            "metadata": {}, 
            "cell_type": "markdown", 
            "source": "import or install cloudant database library"
        }, 
        {
            "execution_count": 1, 
            "cell_type": "code", 
            "outputs": [
                {
                    "output_type": "stream", 
                    "name": "stdout", 
                    "text": "Collecting cloudant\n  Downloading cloudant-2.6.0-py2-none-any.whl (66kB)\n\u001b[K    100% |\u2588\u2588\u2588\u2588\u2588\u2588\u2588\u2588\u2588\u2588\u2588\u2588\u2588\u2588\u2588\u2588\u2588\u2588\u2588\u2588\u2588\u2588\u2588\u2588\u2588\u2588\u2588\u2588\u2588\u2588\u2588\u2588| 71kB 2.2MB/s ta 0:00:01\n\u001b[?25hRequirement already satisfied: requests<3.0.0,>=2.7.0 in /usr/local/src/bluemix_jupyter_bundle.v61/notebook/lib/python2.7/site-packages (from cloudant)\nInstalling collected packages: cloudant\nSuccessfully installed cloudant-2.6.0\n"
                }
            ], 
            "metadata": {}, 
            "source": "import sys\ntry:\n    import cloudant\nexcept:\n    if hasattr(sys, 'real_prefix'):\n        #we are in a virtual env.\n        !pip install --pre cloudant \n    else:\n        !pip install --user --pre cloudant\n    import cloudant"
        }, 
        {
            "metadata": {}, 
            "cell_type": "markdown", 
            "source": "Credentials for cloudant database on Bluemix"
        }, 
        {
            "execution_count": 2, 
            "cell_type": "code", 
            "outputs": [], 
            "metadata": {
                "collapsed": true
            }, 
            "source": "# The code was removed by DSX for sharing."
        }, 
        {
            "metadata": {}, 
            "cell_type": "markdown", 
            "source": "Define the indexes that will be put into Cloudant"
        }, 
        {
            "execution_count": 24, 
            "cell_type": "code", 
            "outputs": [], 
            "metadata": {
                "collapsed": true
            }, 
            "source": "\nindexes = [\n    { \n        'name': 'create standard geo index',\n        'indexName' : 'geoidx',\n        'javascript' : '\\\nfunction(doc) { \\n\\\n    if (doc.geometry && doc.geometry.coordinates && doc.geometry.coordinates.length > 0) { \\n\\\n        st_index(doc.geometry);\\n\\\n    } \\n\\\n} \\\n        ',\n    },\n    {\n        'name': 'create walking index',\n        'indexName': 'walkidx',\n        'javascript' : '\\\nfunction (doc) { \\n\\\n    // anything below a certain speed (got to find units) is someone walking \\n\\\n    if (doc.properties.gpsSpeed > 2.0) \\n\\\n        return; \\n\\\n    // make sure the document has a geometry for gepspatial handling \\n\\\n    if (doc.geometry && doc.geometry.coordinates && doc.geometry.coordinates.length > 0) { \\n\\\n        st_index(doc.geometry);\\n\\\n    }\\n\\\n} \\\n        ',\n    },\n    {\n        'name': 'create car index',\n        'indexName': 'caridx',\n        'javascript' : '\\\nfunction (doc) { \\n\\\n    // anything above a certain speed is someone in a car \\n\\\n    if (doc.properties.gpsSpeed <= 2.0) \\n\\\n        return; \\n\\\n    // make sure the document has a geometry for gepspatial handling \\n\\\n    if (doc.geometry && doc.geometry.coordinates && doc.geometry.coordinates.length > 0) { \\n\\\n        st_index(doc.geometry);\\n\\\n    }\\n\\\n} \\\n        ',\n    },\n    {\n        'name': 'create -85 dbm index - strong signal',\n        'indexName': '85idx',\n        'javascript' : '\\\nfunction (doc) { \\n\\\n    // ignore anything below signal strength -85dbm \\n\\\n    if (doc.properties.signalStrength < -85) \\n\\\n        return; \\n\\\n    // make sure the document has a geometry for gepspatial handling \\n\\\n    if (doc.geometry && doc.geometry.coordinates && doc.geometry.coordinates.length > 0) { \\n\\\n        st_index(doc.geometry);\\n\\\n    }\\n\\\n}\\\n        ',\n    },\n        {\n        'name': 'create -100 dbm index - weak signal',\n        'indexName': '100idx',\n        'javascript' : '\\\nfunction (doc) { \\n\\\n    // ignore anything above signal strength -100dbm \\n\\\n    if (doc.properties.signalStrength > -100) \\n\\\n        return; \\n\\\n    // make sure the document has a geometry for gepspatial handling \\n\\\n    if (doc.geometry && doc.geometry.coordinates && doc.geometry.coordinates.length > 0) { \\n\\\n        st_index(doc.geometry);\\n\\\n    }\\n\\\n}\\\n        ',\n    },\n\n]"
        }, 
        {
            "metadata": {}, 
            "cell_type": "markdown", 
            "source": "create the indexes into cloudant"
        }, 
        {
            "execution_count": 26, 
            "cell_type": "code", 
            "outputs": [], 
            "metadata": {
                "collapsed": true
            }, 
            "source": "from cloudant import design_document\nfrom cloudant import cloudant_bluemix\n\nwith cloudant_bluemix(\n    {\n        \"cloudantNoSQLDB\": [\n            {\n                \"credentials\": credentials_1,\n                \"syslog_drain_url\": '/dev/null',\n                \"label\": \"cloudantNoSQLDB\",\n                \"provider\": 'IBM',\n                \"plan\": \"Lite\",\n                \"name\": \"Cloudant NoSQL DB\"\n            }\n        ]\n    },\n    'Cloudant NoSQL DB') as client:\n        db = client['rf-checker-geojson']\n        ddoc = design_document.DesignDocument(db, '_design/geosignal')\n\n        # insert Indexes\n        stIndexes = {x['indexName']: {'index' : x['javascript']} for x in indexes }\n        # Add the Cloudant Geo index to ``st_indexes`` and save the design document\n        ddoc['st_indexes'] = stIndexes\n        ddoc.save()"
        }, 
        {
            "metadata": {
                "collapsed": true
            }, 
            "cell_type": "markdown", 
            "source": "Add the geohash for each GeoJson document in the database.\nThis will allow us to group signals together into a group\nWe will add two geohashes that will be eventually indexed/or added to views\nThe precision of each geohash is approximate depending on the digits of precision. At the equator the shap is more a square, but as we move towards either pole it becomes more a rectangle\n+ 7 digit precision will be approx a 76 meter (249 feet) square at the equator. \n+ 8 digit precision will be approx 19 meter (62 feet) square at the equator. \n+ 9 digit precision will be approx 2.4 meter (7.8 feet) square at the equator. "
        }, 
        {
            "metadata": {}, 
            "cell_type": "markdown", 
            "source": "The information was cleamed from an article by [Stefan Kruger](https://medium.com/@xpqz/geohashing-for-fun-and-profit-in-cloudant-989420fe1e73) and from a [StackExchange posting](https://gis.stackexchange.com/questions/115280/what-is-the-precision-of-a-geohash)"
        }, 
        {
            "execution_count": 39, 
            "cell_type": "code", 
            "outputs": [], 
            "metadata": {}, 
            "source": "try:\n    import Geohash\nexcept:\n    if hasattr(sys, 'real_prefix'):\n        #we are in a virtual env.\n        !pip install Geohash\n    else:\n        !pip install --user Geohash\n    import Geohash\n\ndef addGeoHash(doc):\n    lat = doc['geometry']['coordinates'][1]\n    long = doc['geometry']['coordinates'][0]\n    doc['geohash'] = [\n        Geohash.encode(lat, long, precision=7),\n        Geohash.encode(lat, long, precision=8),\n        Geohash.encode(lat, long, precision=9)\n    ]"
        }, 
        {
            "execution_count": 41, 
            "cell_type": "code", 
            "outputs": [
                {
                    "output_type": "error", 
                    "evalue": "range() integer end argument expected, got float.", 
                    "ename": "TypeError", 
                    "traceback": [
                        "\u001b[0;31m\u001b[0m", 
                        "\u001b[0;31mTypeError\u001b[0mTraceback (most recent call last)", 
                        "\u001b[0;32m<ipython-input-41-ee812a1f8383>\u001b[0m in \u001b[0;36m<module>\u001b[0;34m()\u001b[0m\n\u001b[1;32m     27\u001b[0m                                 limit=limit)\n\u001b[1;32m     28\u001b[0m         \u001b[0mrangeHigh\u001b[0m \u001b[0;34m=\u001b[0m \u001b[0mmath\u001b[0m\u001b[0;34m.\u001b[0m\u001b[0mceil\u001b[0m\u001b[0;34m(\u001b[0m\u001b[0mqueryResult\u001b[0m\u001b[0;34m[\u001b[0m\u001b[0;34m'total_rows'\u001b[0m\u001b[0;34m]\u001b[0m \u001b[0;34m/\u001b[0m \u001b[0mlimit\u001b[0m\u001b[0;34m)\u001b[0m\u001b[0;34m\u001b[0m\u001b[0m\n\u001b[0;32m---> 29\u001b[0;31m         \u001b[0;32mfor\u001b[0m \u001b[0mi\u001b[0m \u001b[0;32min\u001b[0m \u001b[0mrange\u001b[0m\u001b[0;34m(\u001b[0m\u001b[0;36m0\u001b[0m\u001b[0;34m,\u001b[0m \u001b[0mrangeHigh\u001b[0m\u001b[0;34m)\u001b[0m\u001b[0;34m:\u001b[0m\u001b[0;34m\u001b[0m\u001b[0m\n\u001b[0m\u001b[1;32m     30\u001b[0m             \u001b[0mbookmark\u001b[0m \u001b[0;34m=\u001b[0m \u001b[0mqueryResult\u001b[0m\u001b[0;34m[\u001b[0m\u001b[0;34m'bookmark'\u001b[0m\u001b[0;34m]\u001b[0m\u001b[0;34m\u001b[0m\u001b[0m\n\u001b[1;32m     31\u001b[0m             \u001b[0;32mfor\u001b[0m \u001b[0mdoc\u001b[0m \u001b[0;32min\u001b[0m \u001b[0mqueryResult\u001b[0m\u001b[0;34m[\u001b[0m\u001b[0;34m'rows'\u001b[0m\u001b[0;34m]\u001b[0m\u001b[0;34m:\u001b[0m\u001b[0;34m\u001b[0m\u001b[0m\n", 
                        "\u001b[0;31mTypeError\u001b[0m: range() integer end argument expected, got float."
                    ]
                }
            ], 
            "metadata": {}, 
            "source": "from cloudant import cloudant_bluemix\nimport math\nimport time\n\nlastDoc = {}\nwith cloudant_bluemix(\n    {\n        \"cloudantNoSQLDB\": [\n            {\n                \"credentials\": credentials_1,\n                \"syslog_drain_url\": '/dev/null',\n                \"label\": \"cloudantNoSQLDB\",\n                \"provider\": 'IBM',\n                \"plan\": \"Lite\",\n                \"name\": \"Cloudant NoSQL DB\"\n            }\n        ]\n    },\n    'Cloudant NoSQL DB') as client:\n        db = client['rf-checker-geojson']\n        # Run a query\n        query = 'id:signal-strength'\n        limit = 200\n        queryResult = db.get_search_result('geosignal', 'ididx',\n                                query=query,\n                                include_docs=True,\n                                limit=limit)\n        rangeHigh = math.ceil(queryResult['total_rows'] / limit)\n        for i in range(0, rangeHigh):\n            bookmark = queryResult['bookmark']\n            for doc in queryResult['rows']:\n                # add the geohash to the documents and then update them in the database     \n                if 'doc' in doc:\n                    doc = doc['doc']\n                addGeoHash(doc)\n                lastDoc = doc\n            # Now bulk update the database\n            # remove the annoying 'doc' attribute\n            db.bulk_docs([item['doc'] for item in queryResult['rows']])\n            # iterate for next set of documents\n            queryResult = db.get_search_result('geosignal', 'ididx', \n                                                query=query,\n                                                include_docs=True,\n                                                bookmark=bookmark,\n                                                limit=limit)\n            # The free version of cloudant limits the number of call/sec to 5\n            if (i + 1) % 5 == 0:\n                time.sleep(0.5)\n # print out the last doc  \nlastDoc"
        }, 
        {
            "execution_count": 44, 
            "cell_type": "code", 
            "outputs": [
                {
                    "execution_count": 44, 
                    "data": {
                        "text/plain": "7.0"
                    }, 
                    "metadata": {}, 
                    "output_type": "execute_result"
                }
            ], 
            "metadata": {}, 
            "source": "from cloudant import cloudant_bluemix\nimport math\nimport time\n\nlastDoc = {}\nwith cloudant_bluemix(\n    {\n        \"cloudantNoSQLDB\": [\n            {\n                \"credentials\": credentials_1,\n                \"syslog_drain_url\": '/dev/null',\n                \"label\": \"cloudantNoSQLDB\",\n                \"provider\": 'IBM',\n                \"plan\": \"Lite\",\n                \"name\": \"Cloudant NoSQL DB\"\n            }\n        ]\n    },\n    'Cloudant NoSQL DB') as client:\n        db = client['rf-checker-geojson']\n        # Run a query\n        query = 'id:signal-strength'\n        limit = 200\n        queryResult = db.get_search_result('geosignal', 'ididx',\n                                query=query,\n                                include_docs=True,\n                                limit=limit)\n        lastDoc = round(queryResult['total_rows'] / limit) \n        # print out the last doc  \nlastDoc"
        }, 
        {
            "execution_count": null, 
            "cell_type": "code", 
            "outputs": [], 
            "metadata": {
                "collapsed": true
            }, 
            "source": ""
        }
    ], 
    "nbformat": 4, 
    "nbformat_minor": 1
}